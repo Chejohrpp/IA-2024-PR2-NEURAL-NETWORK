{
 "cells": [
  {
   "cell_type": "markdown",
   "id": "36ae59e5-a81a-4a1f-a708-b056a3c5e7c1",
   "metadata": {},
   "source": [
    "## Importamos las librerias necesarias"
   ]
  },
  {
   "cell_type": "code",
   "execution_count": 1,
   "id": "161e5b92-ed12-44fc-a4e6-8859cb8f5abb",
   "metadata": {},
   "outputs": [],
   "source": [
    "import numpy as np\n",
    "from neuralhrplib.neuralnetwork import NeuralNetwork\n",
    "import matplotlib.pyplot as plt"
   ]
  },
  {
   "cell_type": "markdown",
   "id": "b6170388-3cd1-4d66-8427-bbc5a8766080",
   "metadata": {},
   "source": [
    "# Xor\n",
    "---"
   ]
  },
  {
   "cell_type": "markdown",
   "id": "7b0ea124-e733-4445-8d51-e11ff1868c9d",
   "metadata": {},
   "source": [
    "inputs: 2 \\\n",
    "outputs:1 \\\n",
    "hidden layers: 1 \\\n",
    "cant neurons: 5 \\\n",
    "activation function hidden: sigmoid \\\n",
    "activation function output: step \\\n",
    "epochs: 10000 \\\n",
    "learning_rate or lambda =0.1"
   ]
  },
  {
   "cell_type": "code",
   "execution_count": 2,
   "id": "aac3db4f-4766-4f2c-b1ee-3452e47a81ac",
   "metadata": {},
   "outputs": [
    {
     "name": "stdout",
     "output_type": "stream",
     "text": [
      "epochs: 0, avg_cost_entropy: 0.10770783401459194\n",
      "epochs: 1000, avg_cost_entropy: 0.177841920248091\n",
      "epochs: 2000, avg_cost_entropy: 0.1239194080024075\n",
      "epochs: 3000, avg_cost_entropy: 0.11661317235017574\n",
      "epochs: 4000, avg_cost_entropy: 0.0\n",
      "epochs: 5000, avg_cost_entropy: 0.0\n",
      "epochs: 6000, avg_cost_entropy: 0.0\n",
      "epochs: 7000, avg_cost_entropy: 0.0\n",
      "epochs: 8000, avg_cost_entropy: 0.0\n",
      "epochs: 9000, avg_cost_entropy: 0.0\n",
      "Inputs: [0 0] target: 0 predictions: [0]\n",
      "Inputs: [0 1] target: 1 predictions: [1]\n",
      "Inputs: [1 0] target: 1 predictions: [1]\n",
      "Inputs: [1 1] target: 0 predictions: [0]\n"
     ]
    }
   ],
   "source": [
    "nn = NeuralNetwork([2,5,1], activations='sigmoid', activations_output='step')\n",
    "\n",
    "X = np.array([[0, 0],\n",
    "            [0, 1],\n",
    "            [1, 0],\n",
    "            [1, 1]])\n",
    "\n",
    "y = np.array([0, 1, 1, 0])\n",
    "\n",
    "nn.training(X, y, epochs=10000, learning_rate=0.1, log_epoch_rate=1000)\n",
    "\n",
    "for e,t in zip(X,y):\n",
    "    print(\"Inputs:\",e,\"target:\",t, \"predictions:\",nn.predict(e)[0])"
   ]
  },
  {
   "cell_type": "markdown",
   "id": "60c8cf4c-bdd3-4117-91ce-dde02c326669",
   "metadata": {},
   "source": [
    "## Grafica de cost or cross_entropy"
   ]
  },
  {
   "cell_type": "code",
   "execution_count": 3,
   "id": "0a388a08-f5f8-4a13-bdab-e839bd1ac3ea",
   "metadata": {},
   "outputs": [
    {
     "data": {
      "image/png": "[encoded data removed]",
      "text/plain": [
       "<Figure size 640x480 with 1 Axes>"
      ]
     },
     "metadata": {},
     "output_type": "display_data"
    }
   ],
   "source": [
    "# Obtener las pérdidas del modelo entrenado\n",
    "losses = nn.get_losses()\n",
    "# print(losses)\n",
    "# Asegurarse de que las pérdidas sean una lista de valores unidimensionales\n",
    "valores = [loss for loss in losses if np.isscalar(loss)]\n",
    "\n",
    "plt.plot(range(len(valores)), valores, color='b')\n",
    "plt.ylim([0, 1])\n",
    "plt.ylabel('Average Magnitude of Costs')\n",
    "plt.xlabel('Epochs')\n",
    "plt.tight_layout()\n",
    "plt.show()"
   ]
  },
  {
   "cell_type": "markdown",
   "id": "d4731b11-b0f8-4e84-a160-4ae6a6ab735f",
   "metadata": {},
   "source": [
    "### Own predictions"
   ]
  },
  {
   "cell_type": "code",
   "execution_count": 8,
   "id": "379eb369-588e-46c2-947f-1487b336d344",
   "metadata": {},
   "outputs": [
    {
     "name": "stdout",
     "output_type": "stream",
     "text": [
      "Inputs: [0, 1] prediction: [1]\n"
     ]
    }
   ],
   "source": [
    "entry = [0,1]\n",
    "print(\"Inputs:\",entry, \"prediction:\",nn.predict(entry)[0])"
   ]
  },
  {
   "cell_type": "markdown",
   "id": "da6d6a6c-d0bd-441d-b136-78afe5a9f40d",
   "metadata": {},
   "source": [
    "# dataset for tanh and identity function\n",
    "---"
   ]
  },
  {
   "cell_type": "markdown",
   "id": "511ce940-aded-4458-8d56-367e6799820e",
   "metadata": {},
   "source": [
    "inputs: 2 \\\n",
    "outputs:2 \\\n",
    "hidden layers: 2 \\\n",
    "cant neurons: 5,5 \\\n",
    "activation function hidden: tanh \\\n",
    "activation function output: identity \\\n",
    "epochs: 20000 \\\n",
    "learning_rate or lambda = 0.2"
   ]
  },
  {
   "cell_type": "code",
   "execution_count": 9,
   "id": "bac11661-dfd7-4be4-ba70-151d9eb14d59",
   "metadata": {},
   "outputs": [
    {
     "name": "stdout",
     "output_type": "stream",
     "text": [
      "epochs: 0, avg_cost_entropy: 0.741430496895649\n",
      "epochs: 1000, avg_cost_entropy: 0.0008449827682384806\n",
      "epochs: 2000, avg_cost_entropy: 4.7885715613205195e-05\n",
      "epochs: 3000, avg_cost_entropy: 2.375718184870985e-06\n",
      "epochs: 4000, avg_cost_entropy: 1.1700936044694995e-07\n",
      "epochs: 5000, avg_cost_entropy: 5.760891457327395e-09\n",
      "epochs: 6000, avg_cost_entropy: 2.836294850069144e-10\n",
      "epochs: 7000, avg_cost_entropy: 1.3964035441439123e-11\n",
      "epochs: 8000, avg_cost_entropy: 6.870114546777126e-13\n",
      "epochs: 9000, avg_cost_entropy: 3.3769785954813314e-14\n",
      "epochs: 10000, avg_cost_entropy: 1.9172677037047576e-15\n",
      "epochs: 11000, avg_cost_entropy: 7.779430775701139e-16\n",
      "epochs: 12000, avg_cost_entropy: 1.468374865045965e-16\n",
      "epochs: 13000, avg_cost_entropy: 1.2550931187569619e-16\n",
      "epochs: 14000, avg_cost_entropy: 1.2550931187569619e-16\n",
      "epochs: 15000, avg_cost_entropy: 1.2550931187569619e-16\n",
      "epochs: 16000, avg_cost_entropy: 1.2550931187569619e-16\n",
      "epochs: 17000, avg_cost_entropy: 1.2550931187569619e-16\n",
      "epochs: 18000, avg_cost_entropy: 1.2550931187569619e-16\n",
      "epochs: 19000, avg_cost_entropy: 1.2550931187569619e-16\n",
      "Inputs: [0. 0.] target: [0 1] predictions: [0. 1.]\n",
      "Inputs: [0. 1.] target: [0 1] predictions: [0. 1.]\n",
      "Inputs: [ 0. -1.] target: [0 1] predictions: [5.55111512e-17 1.00000000e+00]\n",
      "Inputs: [0.5 1. ] target: [-1  1] predictions: [-1.  1.]\n",
      "Inputs: [ 0.5 -1. ] target: [1 1] predictions: [1. 1.]\n",
      "Inputs: [1. 1.] target: [ 0 -1] predictions: [ 1.11022302e-16 -1.00000000e+00]\n",
      "Inputs: [ 1. -1.] target: [ 0 -1] predictions: [-1.11022302e-16 -1.00000000e+00]\n"
     ]
    }
   ],
   "source": [
    "nn = NeuralNetwork([2,5,5,2], activations='tanh', activations_output='identity')\n",
    "\n",
    "X = np.array([[0, 0],   \n",
    "              [0, 1],   \n",
    "              [0, -1],  \n",
    "              [0.5, 1], \n",
    "              [0.5,-1], \n",
    "              [1,1],    \n",
    "              [1,-1]])  \n",
    "\n",
    "y = np.array([[0,1],    \n",
    "              [0,1],    \n",
    "              [0,1],    \n",
    "              [-1,1],   \n",
    "              [1,1],    \n",
    "              [0,-1],   \n",
    "              [0,-1]])  \n",
    "\n",
    "nn.training(X, y, epochs=20000, learning_rate=0.2, log_epoch_rate=1000)\n",
    "\n",
    "for e,t in zip(X,y):\n",
    "    print(\"Inputs:\",e,\"target:\",t, \"predictions:\",nn.predict(e)[0])"
   ]
  },
  {
   "cell_type": "code",
   "execution_count": 10,
   "id": "edfa3ee6-adec-437b-bdfb-66344642b24b",
   "metadata": {},
   "outputs": [
    {
     "data": {
      "image/png": "[encoded data removed]",
      "text/plain": [
       "<Figure size 640x480 with 1 Axes>"
      ]
     },
     "metadata": {},
     "output_type": "display_data"
    }
   ],
   "source": [
    "# Obtener las pérdidas del modelo entrenado\n",
    "losses = nn.get_losses()\n",
    "# Asegurarse de que las pérdidas sean una lista de valores unidimensionales\n",
    "valores = [loss for loss in losses if np.isscalar(loss)]\n",
    "\n",
    "plt.plot(range(len(valores)), valores, color='b')\n",
    "plt.ylim([0, 1])\n",
    "plt.ylabel('Average Magnitude of Costs')\n",
    "plt.xlabel('Epochs')\n",
    "plt.tight_layout()\n",
    "plt.show()"
   ]
  },
  {
   "cell_type": "markdown",
   "id": "d4057980-4fa9-4985-bd43-36bcc0e414c2",
   "metadata": {},
   "source": [
    "### Prediction"
   ]
  },
  {
   "cell_type": "code",
   "execution_count": 20,
   "id": "4ee76590-3a7c-4943-a8fc-262b6adee484",
   "metadata": {},
   "outputs": [
    {
     "name": "stdout",
     "output_type": "stream",
     "text": [
      "Inputs: [0.5, 1] prediction: [-1.  1.]\n"
     ]
    }
   ],
   "source": [
    "entry = [0.5, 1]\n",
    "print(\"Inputs:\",entry, \"prediction:\",nn.predict(entry)[0])"
   ]
  },
  {
   "cell_type": "code",
   "execution_count": null,
   "id": "45430f36-75ec-46b0-a396-a33df96874f8",
   "metadata": {},
   "outputs": [],
   "source": []
  }
 ],
 "metadata": {
  "kernelspec": {
   "display_name": "Python 3 (ipykernel)",
   "language": "python",
   "name": "python3"
  },
  "language_info": {
   "codemirror_mode": {
    "name": "ipython",
    "version": 3
   },
   "file_extension": ".py",
   "mimetype": "text/x-python",
   "name": "python",
   "nbconvert_exporter": "python",
   "pygments_lexer": "ipython3",
   "version": "3.12.3"
  }
 },
 "nbformat": 4,
 "nbformat_minor": 5
}
